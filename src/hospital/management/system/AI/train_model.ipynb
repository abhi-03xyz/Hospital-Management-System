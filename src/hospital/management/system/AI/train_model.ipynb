{
 "cells": [
  {
   "cell_type": "code",
   "execution_count": 1,
   "id": "b06ab73e",
   "metadata": {},
   "outputs": [],
   "source": [
    "import pandas as pd\n",
    "from sklearn.tree import DecisionTreeClassifier\n",
    "import joblib"
   ]
  },
  {
   "cell_type": "code",
   "execution_count": 3,
   "id": "c7f19339",
   "metadata": {},
   "outputs": [
    {
     "name": "stdout",
     "output_type": "stream",
     "text": [
      "✅ Model trained and saved.\n"
     ]
    }
   ],
   "source": [
    "df=pd.read_csv(\"disease_data.csv\")\n",
    "\n",
    "#targets\n",
    "\n",
    "X=df[['fever','cough','headache','fatigue','chest_pain']]\n",
    "Y=df['disease']\n",
    "departments=dict(zip(df['disease'],df['department'])) # Map disease to department\n",
    "\n",
    "\n",
    "#model training here\n",
    "model=DecisionTreeClassifier()\n",
    "model.fit(X,Y)\n",
    "\n",
    "#save model and department map\n",
    "joblib.dump(model,'disease_model.pkl')\n",
    "joblib.dump(departments,'departments.pkl')\n",
    "\n",
    "print(\"✅ Model trained and saved.\")\n"
   ]
  }
 ],
 "metadata": {
  "kernelspec": {
   "display_name": "Python 3",
   "language": "python",
   "name": "python3"
  },
  "language_info": {
   "codemirror_mode": {
    "name": "ipython",
    "version": 3
   },
   "file_extension": ".py",
   "mimetype": "text/x-python",
   "name": "python",
   "nbconvert_exporter": "python",
   "pygments_lexer": "ipython3",
   "version": "3.12.5"
  }
 },
 "nbformat": 4,
 "nbformat_minor": 5
}
